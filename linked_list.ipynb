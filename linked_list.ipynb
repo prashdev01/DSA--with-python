{
 "cells": [
  {
   "cell_type": "markdown",
   "metadata": {},
   "source": [
    "### 1. **Linked lists are collection of nodes where each node cantains the data and a reference(link) to the next node in the sequence**"
   ]
  },
  {
   "cell_type": "code",
   "execution_count": 2,
   "metadata": {},
   "outputs": [
    {
     "name": "stdout",
     "output_type": "stream",
     "text": [
      "1\n",
      "2\n",
      "3\n"
     ]
    }
   ],
   "source": [
    "# Node class for a linked list\n",
    "class Node:\n",
    "    def __init__(self,data):\n",
    "        self.data = data\n",
    "        self.next_node = None\n",
    "\n",
    "\n",
    "# example of a linked list\n",
    "node1 = Node(1)\n",
    "node2 = Node(2)\n",
    "node3 = Node(3)\n",
    "\n",
    "node1.next_node = node2\n",
    "node2.next_node = node3\n",
    "\n",
    "# Traversing the linked list \n",
    "\n",
    "current_node =  node1\n",
    "while current_node is not None:\n",
    "    print(current_node.data)\n",
    "    current_node = current_node.next_node"
   ]
  },
  {
   "cell_type": "markdown",
   "metadata": {},
   "source": [
    "# Explanation\n",
    "1. **Node class:**\n",
    "    * We define a class called Node to represent each element in the linked list. Each node has two attributes: data (to store the actual value) and next_node (to reference the next node in the list).\n",
    "2. **Creating Node:**\n",
    "    * we create three nodes (node1,node2,node3) with data values 1,2 and 3 respactivaly.\n",
    "3. **Converting nodes:**\n",
    "    * We establish link between the nodes to form a linked list `node1` is linked to `node2` and `node2` is linked to `node3`.\n",
    "4. **Traversing the linked list:** \n",
    "    * we start at the head of the linked list(`node1`) and traverse through the list by the following the `next_node` references. we print the data of the each node as we go \n",
    "\n",
    "\n",
    "In, summary , a linked list is a data structure where elements (nodes) are connected through references, and each node cantains data and reference to the next node in a sequence "
   ]
  },
  {
   "cell_type": "markdown",
   "metadata": {},
   "source": [
    "Absolutely! The use of linked lists and similar data structures becomes apparent when you consider different scenarios and requirements in programming. Here are some reasons why linked lists are useful:\n",
    "\n",
    "1. **Dynamic Size:**\n",
    "   - Unlike arrays in many programming languages, linked lists provide a dynamic way to store data. They can easily grow or shrink in size during the execution of a program, as memory is allocated as needed.\n",
    "\n",
    "2. **Insertion and Deletion:**\n",
    "   - Inserting or deleting elements in a linked list is more efficient than in an array. In arrays, if you insert or remove an element, you may need to shift all subsequent elements, which can be computationally expensive. In a linked list, you simply need to update the references, making these operations faster.\n",
    "\n",
    "3. **No Pre-allocation of Memory:**\n",
    "   - Linked lists do not require a contiguous block of memory. Each node can be allocated separately in the memory, allowing for efficient utilization of memory space.\n",
    "\n",
    "4. **Easy Implementation of Data Structures:**\n",
    "   - Linked lists are fundamental in implementing more complex data structures, such as stacks, queues, and graphs. The dynamic nature of linked lists makes them well-suited for these structures.\n",
    "\n",
    "5. **Efficient for Certain Algorithms:**\n",
    "   - Some algorithms, like certain searching and sorting algorithms, are more naturally implemented with linked lists. For example, inserting elements in a sorted linked list can be faster than doing the same in a sorted array.\n",
    "\n",
    "6. **Memory Efficiency:**\n",
    "   - Linked lists can be more memory-efficient than arrays, especially when the exact size of the data structure is not known in advance. They avoid the need to allocate a fixed-size block of memory.\n",
    "\n",
    "7. **Ease of Modification:**\n",
    "   - Changing the structure of a linked list is often easier than modifying an array. For instance, reordering elements or reversing a linked list can be done by adjusting the references between nodes.\n",
    "\n",
    "8. **Applications in Real-world Scenarios:**\n",
    "   - Linked lists are commonly used in scenarios where data is constantly changing or when there is a need for efficient memory utilization. For example, they are often used in memory management systems, file systems, and as the underlying data structure for certain types of databases.\n",
    "\n",
    "In summary, linked lists offer flexibility, efficient insertion and deletion, and dynamic sizing, making them valuable in situations where these characteristics are essential. The choice between arrays and linked lists depends on the specific requirements and characteristics of the problem you are trying to solve."
   ]
  }
 ],
 "metadata": {
  "kernelspec": {
   "display_name": "Python 3",
   "language": "python",
   "name": "python3"
  },
  "language_info": {
   "codemirror_mode": {
    "name": "ipython",
    "version": 3
   },
   "file_extension": ".py",
   "mimetype": "text/x-python",
   "name": "python",
   "nbconvert_exporter": "python",
   "pygments_lexer": "ipython3",
   "version": "3.12.0"
  }
 },
 "nbformat": 4,
 "nbformat_minor": 2
}
